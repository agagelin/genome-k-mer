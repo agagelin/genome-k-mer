{
 "cells": [
  {
   "cell_type": "code",
   "execution_count": 1,
   "metadata": {},
   "outputs": [],
   "source": [
    "from time import time\n",
    "import os\n",
    "from pathlib import Path\n",
    "\n",
    "import matplotlib.pyplot as plt\n",
    "import seaborn as sns\n",
    "import numpy as np\n",
    "import pandas as pd\n",
    "from scipy.signal import find_peaks\n",
    "\n",
    "from kmerlib.running_window import *\n",
    "from kmerlib.spectrum import *\n",
    "from kmerlib.tools import *\n",
    "from utils.term_colors import *\n",
    "\n",
    "import json\n",
    "\n",
    "# plot config\n",
    "sns.set()"
   ]
  },
  {
   "cell_type": "code",
   "execution_count": 13,
   "metadata": {},
   "outputs": [],
   "source": [
    "with open(\"./data/genes_dataset/5_genes_all_orgs.json\", \"r\") as f:\n",
    "    all_genes = json.load(f)"
   ]
  },
  {
   "cell_type": "code",
   "execution_count": 14,
   "metadata": {},
   "outputs": [
    {
     "data": {
      "text/plain": [
       "395"
      ]
     },
     "execution_count": 14,
     "metadata": {},
     "output_type": "execute_result"
    }
   ],
   "source": [
    "len(all_genes)"
   ]
  },
  {
   "cell_type": "code",
   "execution_count": 44,
   "metadata": {},
   "outputs": [],
   "source": [
    "# Predictions\n",
    "def prediction(k):\n",
    "    ref_data = list()\n",
    "    for type_ in (\"bacteria\", \"archaea\"):\n",
    "        path = Path(\"./data\") / type_\n",
    "        species = os.listdir(str(path))\n",
    "        for name in species:\n",
    "            file_name = \"{}_k00{}.json\".format(name, k)\n",
    "            spec_path = path / name / file_name\n",
    "            ref_data.append({\n",
    "                \"type\": type_,\n",
    "                \"name\": name,\n",
    "                \"spec\": Spectrum(str(spec_path), True)\n",
    "            })\n",
    "\n",
    "    all_genes_comp = list()\n",
    "\n",
    "    for gene in all_genes:\n",
    "        type_ = all_genes[gene]['Clade']\n",
    "        name = all_genes[gene]['Organism']\n",
    "        all_genes_comp.append({\n",
    "            \"type\": type_,\n",
    "            \"name\": name,\n",
    "            \"spec\": Spectrum(all_genes[gene]['Spectrums'][str(k)])\n",
    "        })\n",
    "\n",
    "    rslts = list()\n",
    "    ranks = list()\n",
    "    N = len(all_genes_comp)\n",
    "    for i, gene in enumerate(all_genes_comp):\n",
    "        spec = gene[\"spec\"]\n",
    "        target = gene[\"name\"]\n",
    "        d = list()\n",
    "        for org in ref_data:\n",
    "            ref_spec = org[\"spec\"]\n",
    "            d.append((dist(ref_spec, spec), org[\"name\"]))\n",
    "        key = lambda x: x[0]\n",
    "        d.sort(key=key)\n",
    "        if d[0][1] == target:\n",
    "            rslts.append(1)\n",
    "        else:\n",
    "            rslts.append(0)\n",
    "        names = [n for _, n in d]\n",
    "        ranks.append(names.index(target) + 1)\n",
    "\n",
    "    print(\"K={} | Accuracy: {}/{} ({:.2%}) | Mean rank: {:.2f} ±{:.2f}\".format(k, sum(rslts), N, sum(rslts)/N,\n",
    "                                                                               np.mean(ranks), np.std(ranks)))\n",
    "    \n",
    "    return sum(rslts)/N, np.mean(ranks)"
   ]
  },
  {
   "cell_type": "code",
   "execution_count": null,
   "metadata": {},
   "outputs": [
    {
     "name": "stdout",
     "output_type": "stream",
     "text": [
      "2\n",
      "K=2 | Accuracy: 138/395 (34.94%) | Mean rank: 7.40 ±11.73\n",
      "3\n",
      "K=3 | Accuracy: 193/395 (48.86%) | Mean rank: 5.23 ±10.46\n",
      "4\n",
      "K=4 | Accuracy: 251/395 (63.54%) | Mean rank: 4.16 ±9.96\n",
      "5\n"
     ]
    }
   ],
   "source": [
    "pers = list()\n",
    "ranks = list()\n",
    "Ks = (2, 3, 4, 5, 6)\n",
    "for k in Ks:\n",
    "    per, rank = prediction(k)\n",
    "    pers.append(per)\n",
    "    ranks.append(rank)\n"
   ]
  },
  {
   "cell_type": "code",
   "execution_count": 41,
   "metadata": {},
   "outputs": [
    {
     "data": {
      "text/plain": [
       "Text(0,0.5,'Accuracy')"
      ]
     },
     "execution_count": 41,
     "metadata": {},
     "output_type": "execute_result"
    },
    {
     "data": {
      "image/png": "[encoded data removed]",
      "text/plain": [
       "<Figure size 432x288 with 1 Axes>"
      ]
     },
     "metadata": {
      "needs_background": "light"
     },
     "output_type": "display_data"
    }
   ],
   "source": [
    "plt.plot(Ks, pers, '.--')\n",
    "plt.xlabel(\"K\")\n",
    "plt.ylabel(\"Accuracy\")"
   ]
  },
  {
   "cell_type": "code",
   "execution_count": 43,
   "metadata": {},
   "outputs": [
    {
     "data": {
      "text/plain": [
       "Text(0,0.5,'Rank')"
      ]
     },
     "execution_count": 43,
     "metadata": {},
     "output_type": "execute_result"
    },
    {
     "data": {
      "image/png": "[encoded data removed]",
      "text/plain": [
       "<Figure size 432x288 with 1 Axes>"
      ]
     },
     "metadata": {
      "needs_background": "light"
     },
     "output_type": "display_data"
    }
   ],
   "source": [
    "plt.plot(Ks, ranks, '.--')\n",
    "plt.xlabel(\"K\")\n",
    "plt.ylabel(\"Rank\")"
   ]
  },
  {
   "cell_type": "code",
   "execution_count": 33,
   "metadata": {},
   "outputs": [
    {
     "name": "stdout",
     "output_type": "stream",
     "text": [
      "K=5 | Accuracy: 240/395 (60.76%) | Mean rank: 4.82 ±10.39\n"
     ]
    }
   ],
   "source": [
    "prediction(5)"
   ]
  },
  {
   "cell_type": "code",
   "execution_count": null,
   "metadata": {},
   "outputs": [],
   "source": []
  }
 ],
 "metadata": {
  "kernelspec": {
   "display_name": "Python 3",
   "language": "python",
   "name": "python3"
  },
  "language_info": {
   "codemirror_mode": {
    "name": "ipython",
    "version": 3
   },
   "file_extension": ".py",
   "mimetype": "text/x-python",
   "name": "python",
   "nbconvert_exporter": "python",
   "pygments_lexer": "ipython3",
   "version": "3.6.6"
  }
 },
 "nbformat": 4,
 "nbformat_minor": 2
}

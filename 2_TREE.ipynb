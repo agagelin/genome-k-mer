{
 "cells": [
  {
   "cell_type": "code",
   "execution_count": 2,
   "metadata": {},
   "outputs": [],
   "source": [
    "bacteria_list = [\n",
    "    \"Alcaligenes_aquatilis\",\n",
    "    \"Aeromonas_australiensis\",\n",
    "    \"Campylobacter_jejuni\",\n",
    "    \"Caulobacter_flavus\",\n",
    "    \"Cyanobacterium_aponinum\",\n",
    "    \"Bacillus_cereus\",\n",
    "    \"Bacillus_pseudofirmus\",\n",
    "    \"Acidobacterium_capsulatum\",\n",
    "    \"Leptospira_interrogans\",\n",
    "    \"BRC1_bacterium_SCGC_AAA252-M09\",\n",
    "    \"Actinomyces_bovis\",\n",
    "    \"Gemmatimonas_aurantiaca\",\n",
    "    \"Bacteroides_fragilis\",\n",
    "    \"Chloroflexus_aurantiacus\",\n",
    "    \"Thermotoga_maritima\",\n",
    "    \"Aquifex_aeolicus\",\n",
    "    \"Gemmata_obscuriglobus\",\n",
    "    \"Planctomycetes_bacterium_SCGC_AAA282-C19\"\n",
    "]\n",
    "archaea_list = [\n",
    "    \"Halovivax_asiaticus\",\n",
    "    \"Methanobrevibacter_ruminantium\",\n",
    "    \"Methanococcus_aeolicus\",\n",
    "    \"Methanococcus_maripaludis\",\n",
    "    \"Methanococcus_vannielii\",\n",
    "    \"Methanopyrus_kandleri\",\n",
    "    \"Thermococcus_gammatolerans\",\n",
    "    \"Acidianus_brierleyi\",\n",
    "    \"Sulfolobus_acidocaldarius\",\n",
    "    \"Staphylothermus_marinus\",\n",
    "    \"Thermofilum_pendens\",\n",
    "    \"Pyrobaculum_aerophilum\",\n",
    "    \"Pyrobaculum_arsenaticum\"\n",
    "]"
   ]
  },
  {
   "cell_type": "code",
   "execution_count": null,
   "metadata": {},
   "outputs": [],
   "source": []
  }
 ],
 "metadata": {
  "kernelspec": {
   "display_name": "Python 3",
   "language": "python",
   "name": "python3"
  },
  "language_info": {
   "codemirror_mode": {
    "name": "ipython",
    "version": 3
   },
   "file_extension": ".py",
   "mimetype": "text/x-python",
   "name": "python",
   "nbconvert_exporter": "python",
   "pygments_lexer": "ipython3",
   "version": "3.6.6"
  }
 },
 "nbformat": 4,
 "nbformat_minor": 2
}

{
 "cells": [
  {
   "cell_type": "markdown",
   "metadata": {},
   "source": [
    "### IMPORTATIONS"
   ]
  },
  {
   "cell_type": "code",
   "execution_count": 1,
   "metadata": {},
   "outputs": [],
   "source": [
    "from time import time\n",
    "\n",
    "import matplotlib.pyplot as plt\n",
    "import seaborn as sns\n",
    "import numpy as np\n",
    "\n",
    "from kmerlib.running_window import *\n",
    "from kmerlib.spectrum import *\n",
    "from kmerlib.tools import *\n",
    "from utils.term_colors import *\n",
    "\n",
    "import json\n",
    "\n",
    "# Plot config\n",
    "sns.set()\n",
    "%matplotlib notebook"
   ]
  },
  {
   "cell_type": "markdown",
   "metadata": {},
   "source": [
    "### LOAD DATA"
   ]
  },
  {
   "cell_type": "code",
   "execution_count": 2,
   "metadata": {},
   "outputs": [],
   "source": [
    "with open('./data/running_window_fulldataset.json', 'r') as f:\n",
    "    data = json.load(f)"
   ]
  },
  {
   "cell_type": "markdown",
   "metadata": {},
   "source": [
    "## K-mer study"
   ]
  },
  {
   "cell_type": "markdown",
   "metadata": {},
   "source": [
    "### Settings"
   ]
  },
  {
   "cell_type": "code",
   "execution_count": null,
   "metadata": {},
   "outputs": [],
   "source": []
  },
  {
   "cell_type": "code",
   "execution_count": 13,
   "metadata": {
    "scrolled": true
   },
   "outputs": [
    {
     "name": "stderr",
     "output_type": "stream",
     "text": [
      "No handles with labels found to put in legend.\n",
      "No handles with labels found to put in legend.\n",
      "No handles with labels found to put in legend.\n"
     ]
    },
    {
     "name": "stdout",
     "output_type": "stream",
     "text": [
      "> \u001b[31mAeropyrum_pernix \u001b[34marchaea\u001b[0m\n",
      "distances 120 1000 166858\n",
      "len_seq 1669696\n",
      "1668570\n",
      "bp: 166858\n",
      "distances 2 1000 166870\n",
      "len_seq 1669696\n",
      "1668690\n",
      "bp: 166870\n",
      "distances 3 1000 166870\n",
      "len_seq 1669696\n",
      "1668690\n",
      "bp: 166870\n",
      "distances 4 1000 166870\n",
      "len_seq 1669696\n",
      "1668690\n",
      "bp: 166870\n",
      "distances 5 1000 166870\n",
      "len_seq 1669696\n",
      "1668690\n",
      "bp: 166870\n",
      "distances 6 1000 166870\n",
      "len_seq 1669696\n",
      "1668690\n",
      "bp: 166870\n",
      "distances 9 1000 166869\n",
      "len_seq 1669696\n",
      "1668680\n",
      "bp: 166869\n",
      "distances 12 1000 166869\n",
      "len_seq 1669696\n",
      "1668680\n",
      "bp: 166869\n",
      "distances 24 1000 166868\n",
      "len_seq 1669696\n",
      "1668670\n",
      "bp: 166868\n",
      "distances 30 1000 166867\n",
      "len_seq 1669696\n",
      "1668660\n",
      "bp: 166867\n",
      "distances 60 1000 166864\n",
      "len_seq 1669696\n",
      "1668630\n",
      "bp: 166864\n",
      "> \u001b[31mAquifex_aeolicus \u001b[34mbacteria\u001b[0m\n",
      "distances 120 1000 158962\n",
      "len_seq 1590856\n",
      "1589610\n",
      "bp: 158962\n",
      "distances 2 1000 158986\n",
      "len_seq 1590856\n",
      "1589850\n",
      "bp: 158986\n",
      "distances 3 1000 158986\n",
      "len_seq 1590856\n",
      "1589850\n",
      "bp: 158986\n",
      "distances 4 1000 158986\n",
      "len_seq 1590856\n",
      "1589850\n",
      "bp: 158986\n",
      "distances 5 1000 158986\n",
      "len_seq 1590856\n",
      "1589850\n",
      "bp: 158986\n",
      "distances 6 1000 158986\n",
      "len_seq 1590856\n",
      "1589850\n",
      "bp: 158986\n",
      "distances 9 1000 158984\n",
      "len_seq 1590856\n",
      "1589830\n",
      "bp: 158984\n",
      "distances 12 1000 158984\n",
      "len_seq 1590856\n",
      "1589830\n",
      "bp: 158984\n",
      "distances 24 1000 158982\n",
      "len_seq 1590856\n",
      "1589810\n",
      "bp: 158982\n",
      "distances 30 1000 158980\n",
      "len_seq 1590856\n",
      "1589790\n",
      "bp: 158980\n",
      "distances 60 1000 158974\n",
      "len_seq 1590856\n",
      "1589730\n",
      "bp: 158974\n",
      "> \u001b[31mMethanocaldococcus_fervens \u001b[34marchaea\u001b[0m\n",
      "distances 120 1000 150610\n",
      "len_seq 1507331\n",
      "1506090\n",
      "bp: 150610\n",
      "distances 2 1000 150634\n",
      "len_seq 1507331\n",
      "1506330\n",
      "bp: 150634\n",
      "distances 3 1000 150633\n",
      "len_seq 1507331\n",
      "1506320\n",
      "bp: 150633\n",
      "distances 4 1000 150632\n",
      "len_seq 1507331\n",
      "1506310\n",
      "bp: 150632\n",
      "distances 5 1000 150632\n",
      "len_seq 1507331\n",
      "1506310\n",
      "bp: 150632\n",
      "distances 6 1000 150632\n",
      "len_seq 1507331\n",
      "1506310\n",
      "bp: 150632\n",
      "distances 9 1000 150632\n",
      "len_seq 1507331\n",
      "1506310\n",
      "bp: 150632\n",
      "distances 12 1000 150632\n",
      "len_seq 1507331\n",
      "1506310\n",
      "bp: 150632\n",
      "distances 24 1000 150628\n",
      "len_seq 1507331\n",
      "1506270\n",
      "bp: 150628\n",
      "distances 30 1000 150628\n",
      "len_seq 1507331\n",
      "1506270\n",
      "bp: 150628\n",
      "distances 60 1000 150622\n",
      "len_seq 1507331\n",
      "1506210\n",
      "bp: 150622\n"
     ]
    },
    {
     "data": {
      "image/png": "[encoded data removed]",
      "text/plain": [
       "<Figure size 432x288 with 1 Axes>"
      ]
     },
     "metadata": {
      "needs_background": "light"
     },
     "output_type": "display_data"
    },
    {
     "data": {
      "image/png": "[encoded data removed]",
      "text/plain": [
       "<Figure size 432x288 with 1 Axes>"
      ]
     },
     "metadata": {
      "needs_background": "light"
     },
     "output_type": "display_data"
    },
    {
     "data": {
      "image/png": "[encoded data removed]",
      "text/plain": [
       "<Figure size 432x288 with 1 Axes>"
      ]
     },
     "metadata": {
      "needs_background": "light"
     },
     "output_type": "display_data"
    }
   ],
   "source": [
    "win_len = '1000'\n",
    "step = int(win_len) // 100\n",
    "for s in data:\n",
    "    # Initialization\n",
    "    name = s[\"name\"]\n",
    "    type_ = s[\"type\"]\n",
    "    seq = s[\"seq\"]\n",
    "    print(\"> \" +FG_RED+ name +\" \"+FG_BLUE+ type_ +END_COLOR)\n",
    "    plt.figure()\n",
    "    \n",
    "    for k in s[\"distances\"]:\n",
    "        distances = s[\"distances\"][k][win_len]\n",
    "        bp = list(range(0, len(distances)*step, step))\n",
    "        plt.plot(bp, distances, label=\"K = {}\".format(k))\n",
    "    # Configure plot\n",
    "    plt.xlabel('Base pair')\n",
    "    plt.ylabel('Distance')\n",
    "    plt.title(name)\n",
    "    plt.legend()\n",
    "plt.show()"
   ]
  },
  {
   "cell_type": "code",
   "execution_count": null,
   "metadata": {},
   "outputs": [],
   "source": []
  },
  {
   "cell_type": "code",
   "execution_count": 26,
   "metadata": {},
   "outputs": [
    {
     "data": {
      "text/plain": [
       "20.0"
      ]
     },
     "execution_count": 26,
     "metadata": {},
     "output_type": "execute_result"
    }
   ],
   "source": []
  },
  {
   "cell_type": "code",
   "execution_count": null,
   "metadata": {},
   "outputs": [],
   "source": []
  }
 ],
 "metadata": {
  "kernelspec": {
   "display_name": "Python 3",
   "language": "python",
   "name": "python3"
  },
  "language_info": {
   "codemirror_mode": {
    "name": "ipython",
    "version": 3
   },
   "file_extension": ".py",
   "mimetype": "text/x-python",
   "name": "python",
   "nbconvert_exporter": "python",
   "pygments_lexer": "ipython3",
   "version": "3.6.6"
  }
 },
 "nbformat": 4,
 "nbformat_minor": 2
}
